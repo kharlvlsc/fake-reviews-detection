{
 "cells": [
  {
   "cell_type": "code",
   "execution_count": 67,
   "id": "f57dadd2",
   "metadata": {},
   "outputs": [],
   "source": [
    "# Import dependencies\n",
    "import pandas as pd\n",
    "import re\n",
    "import nltk\n",
    "from nltk.tokenize import word_tokenize\n",
    "from nltk.corpus import stopwords, wordnet\n",
    "from nltk.stem import WordNetLemmatizer"
   ]
  },
  {
   "cell_type": "code",
   "execution_count": 68,
   "id": "335d77c1",
   "metadata": {},
   "outputs": [
    {
     "name": "stderr",
     "output_type": "stream",
     "text": [
      "[nltk_data] Downloading package punkt to\n",
      "[nltk_data]     C:\\Users\\baqui\\AppData\\Roaming\\nltk_data...\n",
      "[nltk_data]   Package punkt is already up-to-date!\n",
      "[nltk_data] Downloading package stopwords to\n",
      "[nltk_data]     C:\\Users\\baqui\\AppData\\Roaming\\nltk_data...\n",
      "[nltk_data]   Package stopwords is already up-to-date!\n",
      "[nltk_data] Downloading package wordnet to\n",
      "[nltk_data]     C:\\Users\\baqui\\AppData\\Roaming\\nltk_data...\n",
      "[nltk_data]   Package wordnet is already up-to-date!\n",
      "[nltk_data] Downloading package omw-1.4 to\n",
      "[nltk_data]     C:\\Users\\baqui\\AppData\\Roaming\\nltk_data...\n",
      "[nltk_data]   Package omw-1.4 is already up-to-date!\n"
     ]
    },
    {
     "data": {
      "text/plain": [
       "True"
      ]
     },
     "execution_count": 68,
     "metadata": {},
     "output_type": "execute_result"
    }
   ],
   "source": [
    "# Download required NLTK resources\n",
    "nltk.download('punkt')\n",
    "nltk.download('stopwords')\n",
    "nltk.download('wordnet')\n",
    "nltk.download('omw-1.4') # For lemmatizer synonyms"
   ]
  },
  {
   "cell_type": "code",
   "execution_count": 69,
   "id": "ccecce80",
   "metadata": {},
   "outputs": [
    {
     "data": {
      "text/html": [
       "<div>\n",
       "<style scoped>\n",
       "    .dataframe tbody tr th:only-of-type {\n",
       "        vertical-align: middle;\n",
       "    }\n",
       "\n",
       "    .dataframe tbody tr th {\n",
       "        vertical-align: top;\n",
       "    }\n",
       "\n",
       "    .dataframe thead th {\n",
       "        text-align: right;\n",
       "    }\n",
       "</style>\n",
       "<table border=\"1\" class=\"dataframe\">\n",
       "  <thead>\n",
       "    <tr style=\"text-align: right;\">\n",
       "      <th></th>\n",
       "      <th>Review Text</th>\n",
       "      <th>Label</th>\n",
       "    </tr>\n",
       "  </thead>\n",
       "  <tbody>\n",
       "    <tr>\n",
       "      <th>0</th>\n",
       "      <td>sir okay armygreen shorts nice\"\"</td>\n",
       "      <td>1</td>\n",
       "    </tr>\n",
       "    <tr>\n",
       "      <th>1</th>\n",
       "      <td>di pareha yong mga size nila may sobrang liit\"\"</td>\n",
       "      <td>0</td>\n",
       "    </tr>\n",
       "    <tr>\n",
       "      <th>2</th>\n",
       "      <td>super worth it ang ganda Sombra grabi order na...</td>\n",
       "      <td>1</td>\n",
       "    </tr>\n",
       "    <tr>\n",
       "      <th>3</th>\n",
       "      <td>ganda po salamat\"\"</td>\n",
       "      <td>1</td>\n",
       "    </tr>\n",
       "    <tr>\n",
       "      <th>4</th>\n",
       "      <td>maayos pagkadeliver maganda den sya\"\"</td>\n",
       "      <td>0</td>\n",
       "    </tr>\n",
       "  </tbody>\n",
       "</table>\n",
       "</div>"
      ],
      "text/plain": [
       "                                         Review Text  Label\n",
       "0                   sir okay armygreen shorts nice\"\"      1\n",
       "1    di pareha yong mga size nila may sobrang liit\"\"      0\n",
       "2  super worth it ang ganda Sombra grabi order na...      1\n",
       "3                                 ganda po salamat\"\"      1\n",
       "4              maayos pagkadeliver maganda den sya\"\"      0"
      ]
     },
     "execution_count": 69,
     "metadata": {},
     "output_type": "execute_result"
    }
   ],
   "source": [
    "# Load dataset\n",
    "df = pd.read_csv('before_preprocess.csv')\n",
    "df.head()"
   ]
  },
  {
   "cell_type": "code",
   "execution_count": 70,
   "id": "7361e4ee",
   "metadata": {},
   "outputs": [],
   "source": [
    "# Define additional Tagalog stopwords\n",
    "tagalog_stopwords = set([\n",
    "    'ang', 'ng', 'sa', 'mga', 'si', 'kay', 'ni', 'ito', 'iyon', 'doon', 'dito',\n",
    "    'ay', 'na', 'pa', 'rin', 'naman', 'para', 'habang', 'kung', 'kasi', 'at',\n",
    "    'hindi', 'oo', 'huwag', 'wala', 'may', 'meron', 'nasa', 'baka', 'bakit',\n",
    "    'paano', 'saan', 'kailan', 'lahat', 'amin', 'atin', 'kanila', 'kami', 'kayo',\n",
    "    'ikaw', 'siya', 'nila', 'niya', 'natin', 'tayo', 'ako', 'ikaw', 'ko', 'mo'\n",
    "])"
   ]
  },
  {
   "cell_type": "code",
   "execution_count": 71,
   "id": "119ab6a4",
   "metadata": {},
   "outputs": [],
   "source": [
    "# Combine English and Tagalog stopwords\n",
    "stop_words = set(stopwords.words('english')).union(tagalog_stopwords)"
   ]
  },
  {
   "cell_type": "code",
   "execution_count": 72,
   "id": "662fdd78",
   "metadata": {},
   "outputs": [],
   "source": [
    "# Initialize lemmatizer for English\n",
    "lemmatizer = WordNetLemmatizer()"
   ]
  },
  {
   "cell_type": "code",
   "execution_count": 73,
   "id": "f7274eaf",
   "metadata": {},
   "outputs": [],
   "source": [
    "# Define simple rule-based Tagalog lemmatizer\n",
    "def tagalog_lemmatize(word):\n",
    "    # Remove common prefixes and suffixes\n",
    "    prefixes = ['mag', 'nag', 'pag', 'ma', 'ka', 'um', 'in', 'pinaka', 'pina', 'ika']\n",
    "    suffixes = ['an', 'han', 'in']\n",
    "\n",
    "    for pre in prefixes:\n",
    "        if word.startswith(pre) and len(word) > len(pre) + 2:\n",
    "            word = word[len(pre):]\n",
    "            break\n",
    "\n",
    "    for suf in suffixes:\n",
    "        if word.endswith(suf) and len(word) > len(suf) + 2:\n",
    "            word = word[:-len(suf)]\n",
    "            break\n",
    "\n",
    "    return word"
   ]
  },
  {
   "cell_type": "code",
   "execution_count": 74,
   "id": "09b11a2a",
   "metadata": {},
   "outputs": [],
   "source": [
    "# Define preprocessing function\n",
    "def preprocess_text(text: str) -> list[str]:\n",
    "    if not isinstance(text, str):\n",
    "        return []\n",
    "\n",
    "    # Lowercase\n",
    "    text = text.lower()\n",
    "\n",
    "    # Remove punctuation\n",
    "    text = re.sub(r'[^\\w\\s]', '', text)\n",
    "\n",
    "    # Remove emojis (non-BMP Unicode characters)\n",
    "    text = re.sub(r'[\\U00010000-\\U0010ffff]', '', text)\n",
    "\n",
    "    # Tokenize\n",
    "    tokens = word_tokenize(text)\n",
    "\n",
    "    # Remove stopwords\n",
    "    tokens = [tok for tok in tokens if tok not in stop_words]\n",
    "\n",
    "    # Lemmatize (English) and Tagalog simplify\n",
    "    lemmatized = []\n",
    "    for tok in tokens:\n",
    "        if tok in stopwords.words('english'):\n",
    "            lemmatized.append(lemmatizer.lemmatize(tok))\n",
    "        else:\n",
    "            lemmatized.append(tagalog_lemmatize(tok))\n",
    "\n",
    "    return lemmatized"
   ]
  },
  {
   "cell_type": "code",
   "execution_count": 75,
   "id": "0021efd8",
   "metadata": {},
   "outputs": [],
   "source": [
    "# Apply to text columns\n",
    "text_cols = ['Review Text']\n",
    "for col in text_cols:\n",
    "    df[f'{col}_processed'] = df[col].apply(preprocess_text)"
   ]
  },
  {
   "cell_type": "code",
   "execution_count": 76,
   "id": "89598dfa",
   "metadata": {},
   "outputs": [
    {
     "data": {
      "text/html": [
       "<div>\n",
       "<style scoped>\n",
       "    .dataframe tbody tr th:only-of-type {\n",
       "        vertical-align: middle;\n",
       "    }\n",
       "\n",
       "    .dataframe tbody tr th {\n",
       "        vertical-align: top;\n",
       "    }\n",
       "\n",
       "    .dataframe thead th {\n",
       "        text-align: right;\n",
       "    }\n",
       "</style>\n",
       "<table border=\"1\" class=\"dataframe\">\n",
       "  <thead>\n",
       "    <tr style=\"text-align: right;\">\n",
       "      <th></th>\n",
       "      <th>Review Text</th>\n",
       "      <th>Label</th>\n",
       "      <th>Review Text_processed</th>\n",
       "    </tr>\n",
       "  </thead>\n",
       "  <tbody>\n",
       "    <tr>\n",
       "      <th>0</th>\n",
       "      <td>sir okay armygreen shorts nice\"\"</td>\n",
       "      <td>1</td>\n",
       "      <td>[sir, okay, armygreen, shorts, nice]</td>\n",
       "    </tr>\n",
       "    <tr>\n",
       "      <th>1</th>\n",
       "      <td>di pareha yong mga size nila may sobrang liit\"\"</td>\n",
       "      <td>0</td>\n",
       "      <td>[di, pareha, yong, size, sobrang, liit]</td>\n",
       "    </tr>\n",
       "    <tr>\n",
       "      <th>2</th>\n",
       "      <td>super worth it ang ganda Sombra grabi order na...</td>\n",
       "      <td>1</td>\n",
       "      <td>[super, worth, ganda, sombra, grabi, order, di...</td>\n",
       "    </tr>\n",
       "    <tr>\n",
       "      <th>3</th>\n",
       "      <td>ganda po salamat\"\"</td>\n",
       "      <td>1</td>\n",
       "      <td>[ganda, po, salamat]</td>\n",
       "    </tr>\n",
       "    <tr>\n",
       "      <th>4</th>\n",
       "      <td>maayos pagkadeliver maganda den sya\"\"</td>\n",
       "      <td>0</td>\n",
       "      <td>[ayos, kadeliver, anda, den, sya]</td>\n",
       "    </tr>\n",
       "  </tbody>\n",
       "</table>\n",
       "</div>"
      ],
      "text/plain": [
       "                                         Review Text  Label  \\\n",
       "0                   sir okay armygreen shorts nice\"\"      1   \n",
       "1    di pareha yong mga size nila may sobrang liit\"\"      0   \n",
       "2  super worth it ang ganda Sombra grabi order na...      1   \n",
       "3                                 ganda po salamat\"\"      1   \n",
       "4              maayos pagkadeliver maganda den sya\"\"      0   \n",
       "\n",
       "                               Review Text_processed  \n",
       "0               [sir, okay, armygreen, shorts, nice]  \n",
       "1            [di, pareha, yong, size, sobrang, liit]  \n",
       "2  [super, worth, ganda, sombra, grabi, order, di...  \n",
       "3                               [ganda, po, salamat]  \n",
       "4                  [ayos, kadeliver, anda, den, sya]  "
      ]
     },
     "execution_count": 76,
     "metadata": {},
     "output_type": "execute_result"
    }
   ],
   "source": [
    "# Preview the result\n",
    "df.head()"
   ]
  },
  {
   "cell_type": "code",
   "execution_count": 77,
   "id": "ea1290cd",
   "metadata": {},
   "outputs": [],
   "source": [
    "df.to_csv('after_process.csv')"
   ]
  }
 ],
 "metadata": {
  "kernelspec": {
   "display_name": "base",
   "language": "python",
   "name": "python3"
  },
  "language_info": {
   "codemirror_mode": {
    "name": "ipython",
    "version": 3
   },
   "file_extension": ".py",
   "mimetype": "text/x-python",
   "name": "python",
   "nbconvert_exporter": "python",
   "pygments_lexer": "ipython3",
   "version": "3.12.4"
  }
 },
 "nbformat": 4,
 "nbformat_minor": 5
}
